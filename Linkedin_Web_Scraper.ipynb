{
 "cells": [
  {
   "cell_type": "code",
   "execution_count": 1,
   "metadata": {},
   "outputs": [
    {
     "name": "stdout",
     "output_type": "stream",
     "text": [
      "Requirement already satisfied: pandas in /Users/thanuathitya/myenv/lib/python3.12/site-packages (2.2.2)\n",
      "Requirement already satisfied: numpy>=1.26.0 in /Users/thanuathitya/myenv/lib/python3.12/site-packages (from pandas) (1.26.4)\n",
      "Requirement already satisfied: python-dateutil>=2.8.2 in /Users/thanuathitya/myenv/lib/python3.12/site-packages (from pandas) (2.9.0.post0)\n",
      "Requirement already satisfied: pytz>=2020.1 in /Users/thanuathitya/myenv/lib/python3.12/site-packages (from pandas) (2024.1)\n",
      "Requirement already satisfied: tzdata>=2022.7 in /Users/thanuathitya/myenv/lib/python3.12/site-packages (from pandas) (2024.1)\n",
      "Requirement already satisfied: six>=1.5 in /Users/thanuathitya/myenv/lib/python3.12/site-packages (from python-dateutil>=2.8.2->pandas) (1.16.0)\n",
      "Note: you may need to restart the kernel to use updated packages.\n"
     ]
    }
   ],
   "source": [
    "pip install pandas"
   ]
  },
  {
   "cell_type": "code",
   "execution_count": 2,
   "metadata": {},
   "outputs": [],
   "source": [
    "\n",
    "from selenium import webdriver\n",
    "from selenium.webdriver.common.keys import Keys\n",
    "from selenium.webdriver.common.by import By\n",
    "from selenium.webdriver.support.ui import WebDriverWait\n",
    "from selenium.webdriver.support import expected_conditions as EC\n",
    "from selenium import webdriver\n",
    "from bs4 import BeautifulSoup as bs\n",
    "import re as re\n",
    "import time\n",
    "import pandas as pd\n",
    "from selenium.common.exceptions import NoSuchWindowException, WebDriverException,JavascriptException,TimeoutException,NoSuchElementException"
   ]
  },
  {
   "cell_type": "code",
   "execution_count": 3,
   "metadata": {},
   "outputs": [
    {
     "name": "stdin",
     "output_type": "stream",
     "text": [
      "/Users/thanuathitya/Scrapping/chromedriver-mac-x64/chromedriver \n"
     ]
    },
    {
     "name": "stdout",
     "output_type": "stream",
     "text": [
      "\n"
     ]
    }
   ],
   "source": [
    "PATH = input(\"/Users/thanuathitya/Scrapping/chromedriver-mac-x64/chromedriver\")\n",
    "print(PATH)\n"
   ]
  },
  {
   "cell_type": "code",
   "execution_count": 4,
   "metadata": {},
   "outputs": [],
   "source": [
    "# Use driver to open the link\n",
    "driver = webdriver.Chrome(PATH)\n",
    "driver.get(\"https://www.linkedin.com/uas/login\")\n",
    "time.sleep(3)"
   ]
  },
  {
   "cell_type": "code",
   "execution_count": 5,
   "metadata": {},
   "outputs": [],
   "source": [
    "# Creating lists\n",
    "post_links = []\n",
    "post_texts = []\n",
    "post_names = []"
   ]
  },
  {
   "cell_type": "code",
   "execution_count": 6,
   "metadata": {},
   "outputs": [],
   "source": [
    "def initialize_driver():\n",
    "    # Initialize WebDriver\n",
    "    options = webdriver.ChromeOptions()\n",
    "    options.add_argument('--headless')  # Run in headless mode\n",
    "    options.add_argument('--disable-gpu')  # Disable GPU acceleration\n",
    "    options.add_argument('--no-sandbox')  # Bypass OS security model\n",
    "    options.add_argument('--disable-dev-shm-usage')  # Overcome limited resource problems\n",
    "    return webdriver.Chrome(options=options)\n",
    "\n",
    "def wait_for_element(driver, by, value, timeout=10):\n",
    "    try:\n",
    "        element_present = EC.presence_of_element_located((by, value))\n",
    "        WebDriverWait(driver, timeout).until(element_present)\n",
    "        return True\n",
    "    except TimeoutException:\n",
    "        return False\n",
    "\n",
    "def Scrape_func(driver, a, b, c, post_limit):\n",
    "    name = a.split(\"/\")[-2]\n",
    "    page = a\n",
    "    time.sleep(10)\n",
    "\n",
    "    try:\n",
    "        driver.get(page + 'detail/recent-activity/shares/')\n",
    "    except (NoSuchWindowException, WebDriverException) as e:\n",
    "        print(f\"Failed to load page: {page} - {e}\")\n",
    "        return\n",
    "    \n",
    "    start = time.time()\n",
    "    retries = 3\n",
    "    \n",
    "    for _ in range(retries):\n",
    "        try:\n",
    "            if wait_for_element(driver, By.TAG_NAME, \"body\"):\n",
    "                lastHeight = driver.execute_script(\"return document.body.scrollHeight\")\n",
    "                break\n",
    "        except JavascriptException as e:\n",
    "            print(f\"Javascript error occurred: {e}\")\n",
    "            time.sleep(5)\n",
    "    \n",
    "    while True:\n",
    "        try:\n",
    "            driver.execute_script(\"window.scrollTo(0, document.body.scrollHeight);\")\n",
    "        except JavascriptException as e:\n",
    "            print(f\"Javascript error during scroll: {e}\")\n",
    "            break\n",
    "        \n",
    "        time.sleep(5)\n",
    "        \n",
    "        try:\n",
    "            newHeight = driver.execute_script(\"return document.body.scrollHeight\")\n",
    "        except JavascriptException as e:\n",
    "            print(f\"Javascript error occurred: {e}\")\n",
    "            break\n",
    "        \n",
    "        if newHeight == lastHeight:\n",
    "            break\n",
    "        lastHeight = newHeight\n",
    "        end = time.time()\n",
    "        if round(end - start) > 20:\n",
    "            break\n",
    "\n",
    "    company_page = driver.page_source\n",
    "    linkedin_soup = bs(company_page.encode(\"utf-8\"), \"html.parser\")\n",
    "    linkedin_soup.prettify()\n",
    "    containers = linkedin_soup.findAll(\"div\", {\"class\": \"occludable-update ember-view\"})\n",
    "    print(f\"Fetching data from account: {name}\")\n",
    "    iterations = 0\n",
    "\n",
    "    for container in containers:\n",
    "        try:\n",
    "            text_box = container.find(\"div\", {\"class\": \"feed-shared-update-v2__description-wrapper ember-view\"})\n",
    "            if not text_box:\n",
    "                print(\"Text box not found\")\n",
    "                continue\n",
    "            text = text_box.find(\"span\", {\"dir\": \"ltr\"})\n",
    "            if not text:\n",
    "                print(\"Text span not found\")\n",
    "                continue\n",
    "            b.append(text.text.strip())\n",
    "            c.append(name)\n",
    "            iterations += 1\n",
    "            print(f\"Post {iterations}: {text.text.strip()}\")\n",
    "            \n",
    "            if iterations == post_limit:\n",
    "                break\n",
    "        except Exception as e:\n",
    "            print(f\"Error processing container: {e}\")"
   ]
  },
  {
   "cell_type": "code",
   "execution_count": 7,
   "metadata": {},
   "outputs": [
    {
     "name": "stdin",
     "output_type": "stream",
     "text": [
      "Enter the number of entries:  1\n",
      "Enter the link:  https://www.linkedin.com/in/sundarpichai/\n"
     ]
    },
    {
     "name": "stdout",
     "output_type": "stream",
     "text": [
      "Fetching data from account: sundarpichai\n"
     ]
    }
   ],
   "source": [
    "driver = initialize_driver()\n",
    "\n",
    "post_links = [\n",
    "    \"https://www.linkedin.com/in/sundarpichai/\"\n",
    "]\n",
    "\n",
    "post_texts = []\n",
    "post_names = []\n",
    "\n",
    "try:\n",
    "    n = int(input(\"Enter the number of entries: \"))\n",
    "    post_links = [input(\"Enter the link: \") for _ in range(n)]\n",
    "\n",
    "    for link in post_links:\n",
    "        try:\n",
    "            Scrape_func(driver, link, post_texts, post_names, post_limit=5)\n",
    "        except (NoSuchWindowException, WebDriverException) as e:\n",
    "            print(f\"Failed to process link: {link} - {e}\")\n",
    "            # Reinitialize the driver if window is closed\n",
    "            driver.quit()\n",
    "            driver = initialize_driver()\n",
    "\n",
    "finally:\n",
    "    driver.quit()\n"
   ]
  },
  {
   "cell_type": "code",
   "execution_count": 8,
   "metadata": {},
   "outputs": [],
   "source": [
    "data = {\n",
    "    \"Name\": post_names,\n",
    "    \"Content\": post_texts,\n",
    "}\n",
    "\n",
    "df = pd.DataFrame(data)\n",
    "df.to_csv(\"test1.csv\", encoding='utf-8', index=False)\n"
   ]
  }
 ],
 "metadata": {
  "kernelspec": {
   "display_name": "Python 3 (ipykernel)",
   "language": "python",
   "name": "python3"
  },
  "language_info": {
   "codemirror_mode": {
    "name": "ipython",
    "version": 3
   },
   "file_extension": ".py",
   "mimetype": "text/x-python",
   "name": "python",
   "nbconvert_exporter": "python",
   "pygments_lexer": "ipython3",
   "version": "3.12.3"
  },
  "vscode": {
   "interpreter": {
    "hash": "aee8b7b246df8f9039afb4144a1f6fd8d2ca17a180786b69acc140d282b71a49"
   }
  }
 },
 "nbformat": 4,
 "nbformat_minor": 4
}
