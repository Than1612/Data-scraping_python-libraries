{
 "cells": [
  {
   "cell_type": "code",
   "execution_count": 1,
   "id": "f0b528da-fbfa-4b6f-a62c-8f2a1e9578a0",
   "metadata": {},
   "outputs": [
    {
     "name": "stdout",
     "output_type": "stream",
     "text": [
      "Requirement already satisfied: beautifulsoup4 in /Users/thanuathitya/Library/Python/3.10/lib/python/site-packages (4.12.3)\n",
      "Requirement already satisfied: requests in /Users/thanuathitya/Library/Python/3.10/lib/python/site-packages (2.32.2)\n",
      "Requirement already satisfied: soupsieve>1.2 in /Users/thanuathitya/Library/Python/3.10/lib/python/site-packages (from beautifulsoup4) (2.5)\n",
      "Requirement already satisfied: urllib3<3,>=1.21.1 in /Users/thanuathitya/Library/Python/3.10/lib/python/site-packages (from requests) (2.2.1)\n",
      "Requirement already satisfied: certifi>=2017.4.17 in /Users/thanuathitya/Library/Python/3.10/lib/python/site-packages (from requests) (2024.2.2)\n",
      "Requirement already satisfied: idna<4,>=2.5 in /Users/thanuathitya/Library/Python/3.10/lib/python/site-packages (from requests) (3.7)\n",
      "Requirement already satisfied: charset-normalizer<4,>=2 in /Users/thanuathitya/Library/Python/3.10/lib/python/site-packages (from requests) (3.3.2)\n",
      "\n",
      "\u001b[1m[\u001b[0m\u001b[34;49mnotice\u001b[0m\u001b[1;39;49m]\u001b[0m\u001b[39;49m A new release of pip available: \u001b[0m\u001b[31;49m22.2.2\u001b[0m\u001b[39;49m -> \u001b[0m\u001b[32;49m24.0\u001b[0m\n",
      "\u001b[1m[\u001b[0m\u001b[34;49mnotice\u001b[0m\u001b[1;39;49m]\u001b[0m\u001b[39;49m To update, run: \u001b[0m\u001b[32;49mpip3 install --upgrade pip\u001b[0m\n",
      "Note: you may need to restart the kernel to use updated packages.\n"
     ]
    }
   ],
   "source": [
    "pip install beautifulsoup4 requests"
   ]
  },
  {
   "cell_type": "code",
   "execution_count": 2,
   "id": "564002ea-696f-4d1f-ad7f-953a67303119",
   "metadata": {},
   "outputs": [
    {
     "ename": "AttributeError",
     "evalue": "'NoneType' object has no attribute 'select_one'",
     "output_type": "error",
     "traceback": [
      "\u001b[0;31m---------------------------------------------------------------------------\u001b[0m",
      "\u001b[0;31mAttributeError\u001b[0m                            Traceback (most recent call last)",
      "Cell \u001b[0;32mIn[2], line 28\u001b[0m\n\u001b[1;32m     25\u001b[0m \u001b[39m# scrape the repo history data\u001b[39;00m\n\u001b[1;32m     26\u001b[0m boxheader_html_element \u001b[39m=\u001b[39m soup\u001b[39m.\u001b[39mselect_one(\u001b[39m'\u001b[39m\u001b[39m.Box .Box-header\u001b[39m\u001b[39m'\u001b[39m)\n\u001b[0;32m---> 28\u001b[0m relative_time_html_element \u001b[39m=\u001b[39m boxheader_html_element\u001b[39m.\u001b[39;49mselect_one(\u001b[39m'\u001b[39m\u001b[39mrelative-time\u001b[39m\u001b[39m'\u001b[39m)\n\u001b[1;32m     29\u001b[0m latest_commit \u001b[39m=\u001b[39m relative_time_html_element[\u001b[39m'\u001b[39m\u001b[39mdatetime\u001b[39m\u001b[39m'\u001b[39m]\n\u001b[1;32m     31\u001b[0m history_icon_html_element \u001b[39m=\u001b[39m boxheader_html_element\u001b[39m.\u001b[39mselect_one(\u001b[39m'\u001b[39m\u001b[39m.octicon-history\u001b[39m\u001b[39m'\u001b[39m)\n",
      "\u001b[0;31mAttributeError\u001b[0m: 'NoneType' object has no attribute 'select_one'"
     ]
    }
   ],
   "source": [
    "import requests\n",
    "from bs4 import BeautifulSoup\n",
    "import json\n",
    "\n",
    "# the URL of the target repo to scrape\n",
    "url = 'https://github.com/luminati-io/luminati-proxy'\n",
    "\n",
    "# download the target page\n",
    "page = requests.get(url)\n",
    "# parse the HTML document returned by the server\n",
    "soup = BeautifulSoup(page.text, 'html.parser')\n",
    "\n",
    "# initialize the object that will contain\n",
    "# the scraped data\n",
    "repo = {}\n",
    "\n",
    "# repo scraping logic\n",
    "name_html_element = soup.select_one('[itemprop=\"name\"]')\n",
    "name = name_html_element.get_text().strip()\n",
    "\n",
    "git_branch_icon_html_element = soup.select_one('.octicon-git-branch')\n",
    "main_branch_html_element = git_branch_icon_html_element.find_next_sibling('span')\n",
    "main_branch = main_branch_html_element.get_text().strip()\n",
    "\n",
    "# scrape the repo history data\n",
    "boxheader_html_element = soup.select_one('.Box .Box-header')\n",
    "\n",
    "relative_time_html_element = boxheader_html_element.select_one('relative-time')\n",
    "latest_commit = relative_time_html_element['datetime']\n",
    "\n",
    "history_icon_html_element = boxheader_html_element.select_one('.octicon-history')\n",
    "commits_span_html_element = history_icon_html_element.find_next_sibling('span')\n",
    "commits_html_element = commits_span_html_element.select_one('strong')\n",
    "commits = commits_html_element.get_text().strip().replace(',', '')\n",
    "\n",
    "# scrape the repo details in the right box\n",
    "bordergrid_html_element = soup.select_one('.BorderGrid')\n",
    "\n",
    "about_html_element = bordergrid_html_element.select_one('h2')\n",
    "description_html_element = about_html_element.find_next_sibling('p')\n",
    "description = description_html_element.get_text().strip()\n",
    "\n",
    "star_icon_html_element = bordergrid_html_element.select_one('.octicon-star')\n",
    "stars_html_element = star_icon_html_element.find_next_sibling('strong')\n",
    "stars = stars_html_element.get_text().strip().replace(',', '')\n",
    "\n",
    "eye_icon_html_element = bordergrid_html_element.select_one('.octicon-eye')\n",
    "watchers_html_element = eye_icon_html_element.find_next_sibling('strong')\n",
    "watchers = watchers_html_element.get_text().strip().replace(',', '')\n",
    "\n",
    "fork_icon_html_element = bordergrid_html_element.select_one('.octicon-repo-forked')\n",
    "forks_html_element = fork_icon_html_element.find_next_sibling('strong')\n",
    "forks = forks_html_element.get_text().strip().replace(',', '')\n",
    "\n",
    "# build the URL for README.md and download it\n",
    "readme_url = f'https://raw.githubusercontent.com/luminati-io/luminati-proxy/{main_branch}/README.md'\n",
    "readme_page = requests.get(readme_url)\n",
    "\n",
    "readme = None\n",
    "# if there is a README.md file\n",
    "if readme_page.status_code != 404:\n",
    "    readme = readme_page.text\n",
    "\n",
    "# store the scraped data\n",
    "repo['name'] = name\n",
    "repo['latest_commit'] = latest_commit\n",
    "repo['commits'] = commits\n",
    "repo['main_branch'] = main_branch\n",
    "repo['description'] = description\n",
    "repo['stars'] = stars\n",
    "repo['watchers'] = watchers\n",
    "repo['forks'] = forks\n",
    "repo['readme'] = readme\n",
    "\n",
    "# export the scraped data to a repo.json output file\n",
    "with open('repo.json', 'w') as file:\n",
    "    json.dump(repo, file, indent=4)"
   ]
  },
  {
   "cell_type": "code",
   "execution_count": null,
   "id": "53b64632-2e5a-4894-8119-cfc9ec761daf",
   "metadata": {},
   "outputs": [],
   "source": []
  }
 ],
 "metadata": {
  "kernelspec": {
   "display_name": "Python 3",
   "language": "python",
   "name": "python3"
  },
  "language_info": {
   "codemirror_mode": {
    "name": "ipython",
    "version": 3
   },
   "file_extension": ".py",
   "mimetype": "text/x-python",
   "name": "python",
   "nbconvert_exporter": "python",
   "pygments_lexer": "ipython3",
   "version": "3.10.7"
  },
  "vscode": {
   "interpreter": {
    "hash": "aee8b7b246df8f9039afb4144a1f6fd8d2ca17a180786b69acc140d282b71a49"
   }
  }
 },
 "nbformat": 4,
 "nbformat_minor": 5
}
