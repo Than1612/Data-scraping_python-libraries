{
 "cells": [
  {
   "cell_type": "code",
   "execution_count": 3,
   "metadata": {
    "scrolled": true
   },
   "outputs": [
    {
     "name": "stdout",
     "output_type": "stream",
     "text": [
      "Requirement already satisfied: selenium in /Library/Frameworks/Python.framework/Versions/3.10/lib/python3.10/site-packages (4.21.0)\n",
      "Requirement already satisfied: typing_extensions>=4.9.0 in /Users/thanuathitya/Library/Python/3.10/lib/python/site-packages (from selenium) (4.12.0)\n",
      "Requirement already satisfied: certifi>=2021.10.8 in /Users/thanuathitya/Library/Python/3.10/lib/python/site-packages (from selenium) (2024.2.2)\n",
      "Requirement already satisfied: trio-websocket~=0.9 in /Library/Frameworks/Python.framework/Versions/3.10/lib/python3.10/site-packages (from selenium) (0.11.1)\n",
      "Requirement already satisfied: trio~=0.17 in /Library/Frameworks/Python.framework/Versions/3.10/lib/python3.10/site-packages (from selenium) (0.25.1)\n",
      "Requirement already satisfied: urllib3[socks]<3,>=1.26 in /Users/thanuathitya/Library/Python/3.10/lib/python/site-packages (from selenium) (2.2.1)\n",
      "Requirement already satisfied: exceptiongroup in /Users/thanuathitya/Library/Python/3.10/lib/python/site-packages (from trio~=0.17->selenium) (1.2.1)\n",
      "Requirement already satisfied: attrs>=23.2.0 in /Users/thanuathitya/Library/Python/3.10/lib/python/site-packages (from trio~=0.17->selenium) (23.2.0)\n",
      "Requirement already satisfied: sortedcontainers in /Library/Frameworks/Python.framework/Versions/3.10/lib/python3.10/site-packages (from trio~=0.17->selenium) (2.4.0)\n",
      "Requirement already satisfied: outcome in /Library/Frameworks/Python.framework/Versions/3.10/lib/python3.10/site-packages (from trio~=0.17->selenium) (1.3.0.post0)\n",
      "Requirement already satisfied: sniffio>=1.3.0 in /Users/thanuathitya/Library/Python/3.10/lib/python/site-packages (from trio~=0.17->selenium) (1.3.1)\n",
      "Requirement already satisfied: idna in /Users/thanuathitya/Library/Python/3.10/lib/python/site-packages (from trio~=0.17->selenium) (3.7)\n",
      "Requirement already satisfied: wsproto>=0.14 in /Library/Frameworks/Python.framework/Versions/3.10/lib/python3.10/site-packages (from trio-websocket~=0.9->selenium) (1.2.0)\n",
      "Requirement already satisfied: pysocks!=1.5.7,<2.0,>=1.5.6 in /Library/Frameworks/Python.framework/Versions/3.10/lib/python3.10/site-packages (from urllib3[socks]<3,>=1.26->selenium) (1.7.1)\n",
      "Requirement already satisfied: h11<1,>=0.9.0 in /Users/thanuathitya/Library/Python/3.10/lib/python/site-packages (from wsproto>=0.14->trio-websocket~=0.9->selenium) (0.14.0)\n",
      "\n",
      "\u001b[1m[\u001b[0m\u001b[34;49mnotice\u001b[0m\u001b[1;39;49m]\u001b[0m\u001b[39;49m A new release of pip available: \u001b[0m\u001b[31;49m22.2.2\u001b[0m\u001b[39;49m -> \u001b[0m\u001b[32;49m24.0\u001b[0m\n",
      "\u001b[1m[\u001b[0m\u001b[34;49mnotice\u001b[0m\u001b[1;39;49m]\u001b[0m\u001b[39;49m To update, run: \u001b[0m\u001b[32;49mpip3 install --upgrade pip\u001b[0m\n",
      "Note: you may need to restart the kernel to use updated packages.\n"
     ]
    }
   ],
   "source": [
    "pip install selenium"
   ]
  },
  {
   "cell_type": "code",
   "execution_count": 4,
   "metadata": {},
   "outputs": [
    {
     "name": "stdout",
     "output_type": "stream",
     "text": [
      "Job title: Data Analyst - Marketing (f/m/x)\n",
      "Address: Berlin, Germany\n",
      "3 weeks ago\n",
      "Job Link https://de.linkedin.com/jobs/view/data-analyst-marketing-f-m-x-at-refurbed-3922778892?position=1&pageNum=0&refId=EkaYlerh5v%2Fc5ycG4GWsfA%3D%3D&trackingId=cOAgWA02pQ7UAPwvodrJpw%3D%3D&trk=public_jobs_jserp-result_search-card\n",
      "--------------------------------------------------\n",
      "Job title: IIoT Business Data Analyst (m/f/d)\n",
      "Address: Berlin, Germany\n",
      "4 weeks ago\n",
      "Job Link https://de.linkedin.com/jobs/view/iiot-business-data-analyst-m-f-d-at-factorypal-3915725444?position=2&pageNum=0&refId=EkaYlerh5v%2Fc5ycG4GWsfA%3D%3D&trackingId=9rRByBRs9%2Bs23zUzIwWQaw%3D%3D&trk=public_jobs_jserp-result_search-card\n",
      "--------------------------------------------------\n",
      "Job title: Senior Data Analyst, Applied Marketing Measurement (Relocation to Tallinn)\n",
      "Address: Berlin, Germany\n",
      "Actively Hiring\n",
      "3 days ago\n",
      "Job Link https://de.linkedin.com/jobs/view/senior-data-analyst-applied-marketing-measurement-relocation-to-tallinn-at-bolt-3934445593?position=3&pageNum=0&refId=EkaYlerh5v%2Fc5ycG4GWsfA%3D%3D&trackingId=yMUSA45EjjndB9ZgaUB8fA%3D%3D&trk=public_jobs_jserp-result_search-card\n",
      "--------------------------------------------------\n",
      "Job title: Senior Data Analyst, Promotions Europe (m/f/x)\n",
      "Address: Berlin, Berlin, Germany\n",
      "Actively Hiring\n",
      "1 week ago\n",
      "Job Link https://de.linkedin.com/jobs/view/senior-data-analyst-promotions-europe-m-f-x-at-wayfair-3932399471?position=4&pageNum=0&refId=EkaYlerh5v%2Fc5ycG4GWsfA%3D%3D&trackingId=OUZRZdKBOtdQpXBsi3kfgg%3D%3D&trk=public_jobs_jserp-result_search-card\n",
      "--------------------------------------------------\n",
      "Job title: Power BI Report Designer (d/f/m)\n",
      "Address: Berlin, Berlin, Germany\n",
      "Actively Hiring\n",
      "2 weeks ago\n",
      "Job Link https://de.linkedin.com/jobs/view/power-bi-report-designer-d-f-m-at-ottobock-3924757684?position=5&pageNum=0&refId=EkaYlerh5v%2Fc5ycG4GWsfA%3D%3D&trackingId=iqX7IumlHsYRslwC3nGtDg%3D%3D&trk=public_jobs_jserp-result_search-card\n",
      "--------------------------------------------------\n",
      "Job title: Business Analyst (eCommerce)\n",
      "Address: Berlin, Berlin, Germany\n",
      "1 week ago\n",
      "Job Link https://de.linkedin.com/jobs/view/business-analyst-ecommerce-at-lovehoney-group-3931053011?position=6&pageNum=0&refId=EkaYlerh5v%2Fc5ycG4GWsfA%3D%3D&trackingId=dWnrpU5kEtSCIWJAddcoJQ%3D%3D&trk=public_jobs_jserp-result_search-card\n",
      "--------------------------------------------------\n",
      "Job title: Business Analyst Data & AI Life Sciences (w/m/d)\n",
      "Address: Berlin, Berlin, Germany\n",
      "Actively Hiring\n",
      "6 months ago\n",
      "Job Link https://de.linkedin.com/jobs/view/business-analyst-data-ai-life-sciences-w-m-d-at-capgemini-3760808449?position=7&pageNum=0&refId=EkaYlerh5v%2Fc5ycG4GWsfA%3D%3D&trackingId=ih%2BVj%2F91%2Bj%2BXlRyOAqvCwg%3D%3D&trk=public_jobs_jserp-result_search-card\n",
      "--------------------------------------------------\n",
      "Job title: Big Data Analyst / Business Analyst (m/w/d)\n",
      "Address: Falkensee, Brandenburg, Germany\n",
      "Be an early applicant\n",
      "1 hour ago\n",
      "Job Link https://de.linkedin.com/jobs/view/big-data-analyst-business-analyst-m-w-d-at-jooble-3941098382?position=8&pageNum=0&refId=EkaYlerh5v%2Fc5ycG4GWsfA%3D%3D&trackingId=YXbUGQV3mx3gCLh4HEKlVA%3D%3D&trk=public_jobs_jserp-result_search-card\n",
      "--------------------------------------------------\n",
      "Job title: Big Data Analyst / Business Analyst (m/w/d)\n",
      "Address: Berlin, Berlin, Germany\n",
      "Be an early applicant\n",
      "1 hour ago\n",
      "Job Link https://de.linkedin.com/jobs/view/big-data-analyst-business-analyst-m-w-d-at-jooble-3941096685?position=9&pageNum=0&refId=EkaYlerh5v%2Fc5ycG4GWsfA%3D%3D&trackingId=T9wUl%2Fi%2FW5zHQ2j9e%2F32vg%3D%3D&trk=public_jobs_jserp-result_search-card\n",
      "--------------------------------------------------\n",
      "Job title: Big Data Analyst / Business Analyst (m/w/d)\n",
      "Address: Ludwigsfelde, Brandenburg, Germany\n",
      "Be an early applicant\n",
      "1 hour ago\n",
      "Job Link https://de.linkedin.com/jobs/view/big-data-analyst-business-analyst-m-w-d-at-jooble-3941099177?position=10&pageNum=0&refId=EkaYlerh5v%2Fc5ycG4GWsfA%3D%3D&trackingId=6NldmRdgDFF%2FLD0yQalXYw%3D%3D&trk=public_jobs_jserp-result_search-card\n",
      "--------------------------------------------------\n",
      "Job title: Senior Digital Marketing Analyst\n",
      "Address: Berlin, Germany\n",
      "Actively Hiring\n",
      "5 days ago\n",
      "Job Link https://de.linkedin.com/jobs/view/senior-digital-marketing-analyst-at-thryve-3936599858?position=11&pageNum=0&refId=EkaYlerh5v%2Fc5ycG4GWsfA%3D%3D&trackingId=Aj5Rq9qBgWfIzFzvuXGrlQ%3D%3D&trk=public_jobs_jserp-result_search-card\n",
      "--------------------------------------------------\n"
     ]
    },
    {
     "ename": "NoSuchElementException",
     "evalue": "Message: no such element: Unable to locate element: {\"method\":\"css selector\",\"selector\":\".sr-only\"}\n  (Session info: chrome=125.0.6422.142); For documentation on this error, please visit: https://www.selenium.dev/documentation/webdriver/troubleshooting/errors#no-such-element-exception\nStacktrace:\n0   chromedriver                        0x00000001053506b8 chromedriver + 6149816\n1   chromedriver                        0x0000000105347cda chromedriver + 6114522\n2   chromedriver                        0x0000000104dd4d5c chromedriver + 400732\n3   chromedriver                        0x0000000104e21aa5 chromedriver + 715429\n4   chromedriver                        0x0000000104e21bf1 chromedriver + 715761\n5   chromedriver                        0x0000000104e16106 chromedriver + 667910\n6   chromedriver                        0x0000000104e44cdd chromedriver + 859357\n7   chromedriver                        0x0000000104e15fe8 chromedriver + 667624\n8   chromedriver                        0x0000000104e44e6e chromedriver + 859758\n9   chromedriver                        0x0000000104e640db chromedriver + 987355\n10  chromedriver                        0x0000000104e44a53 chromedriver + 858707\n11  chromedriver                        0x0000000104e146d5 chromedriver + 661205\n12  chromedriver                        0x0000000104e14f6e chromedriver + 663406\n13  chromedriver                        0x0000000105311cf0 chromedriver + 5893360\n14  chromedriver                        0x00000001053174bc chromedriver + 5915836\n15  chromedriver                        0x00000001052f38b4 chromedriver + 5769396\n16  chromedriver                        0x0000000105317f89 chromedriver + 5918601\n17  chromedriver                        0x00000001052e4ec4 chromedriver + 5709508\n18  chromedriver                        0x0000000105338008 chromedriver + 6049800\n19  chromedriver                        0x00000001053381c7 chromedriver + 6050247\n20  chromedriver                        0x000000010534788e chromedriver + 6113422\n21  libsystem_pthread.dylib             0x00007ff80de8418b _pthread_start + 99\n22  libsystem_pthread.dylib             0x00007ff80de7fae3 thread_start + 15\n",
     "output_type": "error",
     "traceback": [
      "\u001b[0;31m---------------------------------------------------------------------------\u001b[0m",
      "\u001b[0;31mNoSuchElementException\u001b[0m                    Traceback (most recent call last)",
      "Cell \u001b[0;32mIn[4], line 16\u001b[0m\n\u001b[1;32m     13\u001b[0m csv_writer\u001b[39m.\u001b[39mwriterow([\u001b[39m'\u001b[39m\u001b[39mJob Title\u001b[39m\u001b[39m'\u001b[39m,\u001b[39m'\u001b[39m\u001b[39mAddress\u001b[39m\u001b[39m'\u001b[39m,\u001b[39m'\u001b[39m\u001b[39mJob Link\u001b[39m\u001b[39m'\u001b[39m])\n\u001b[1;32m     15\u001b[0m \u001b[39mfor\u001b[39;00m listing \u001b[39min\u001b[39;00m job_listings:\n\u001b[0;32m---> 16\u001b[0m     job_title_element\u001b[39m=\u001b[39mlisting\u001b[39m.\u001b[39;49mfind_element(By\u001b[39m.\u001b[39;49mCLASS_NAME,\u001b[39m'\u001b[39;49m\u001b[39msr-only\u001b[39;49m\u001b[39m'\u001b[39;49m)\n\u001b[1;32m     17\u001b[0m     job_title\u001b[39m=\u001b[39mjob_title_element\u001b[39m.\u001b[39mtext\n\u001b[1;32m     18\u001b[0m     \u001b[39mprint\u001b[39m(\u001b[39m\"\u001b[39m\u001b[39mJob title:\u001b[39m\u001b[39m\"\u001b[39m,job_title)\n",
      "File \u001b[0;32m/Library/Frameworks/Python.framework/Versions/3.10/lib/python3.10/site-packages/selenium/webdriver/remote/webelement.py:417\u001b[0m, in \u001b[0;36mWebElement.find_element\u001b[0;34m(self, by, value)\u001b[0m\n\u001b[1;32m    414\u001b[0m     by \u001b[39m=\u001b[39m By\u001b[39m.\u001b[39mCSS_SELECTOR\n\u001b[1;32m    415\u001b[0m     value \u001b[39m=\u001b[39m \u001b[39mf\u001b[39m\u001b[39m'\u001b[39m\u001b[39m[name=\u001b[39m\u001b[39m\"\u001b[39m\u001b[39m{\u001b[39;00mvalue\u001b[39m}\u001b[39;00m\u001b[39m\"\u001b[39m\u001b[39m]\u001b[39m\u001b[39m'\u001b[39m\n\u001b[0;32m--> 417\u001b[0m \u001b[39mreturn\u001b[39;00m \u001b[39mself\u001b[39;49m\u001b[39m.\u001b[39;49m_execute(Command\u001b[39m.\u001b[39;49mFIND_CHILD_ELEMENT, {\u001b[39m\"\u001b[39;49m\u001b[39musing\u001b[39;49m\u001b[39m\"\u001b[39;49m: by, \u001b[39m\"\u001b[39;49m\u001b[39mvalue\u001b[39;49m\u001b[39m\"\u001b[39;49m: value})[\u001b[39m\"\u001b[39m\u001b[39mvalue\u001b[39m\u001b[39m\"\u001b[39m]\n",
      "File \u001b[0;32m/Library/Frameworks/Python.framework/Versions/3.10/lib/python3.10/site-packages/selenium/webdriver/remote/webelement.py:395\u001b[0m, in \u001b[0;36mWebElement._execute\u001b[0;34m(self, command, params)\u001b[0m\n\u001b[1;32m    393\u001b[0m     params \u001b[39m=\u001b[39m {}\n\u001b[1;32m    394\u001b[0m params[\u001b[39m\"\u001b[39m\u001b[39mid\u001b[39m\u001b[39m\"\u001b[39m] \u001b[39m=\u001b[39m \u001b[39mself\u001b[39m\u001b[39m.\u001b[39m_id\n\u001b[0;32m--> 395\u001b[0m \u001b[39mreturn\u001b[39;00m \u001b[39mself\u001b[39;49m\u001b[39m.\u001b[39;49m_parent\u001b[39m.\u001b[39;49mexecute(command, params)\n",
      "File \u001b[0;32m/Library/Frameworks/Python.framework/Versions/3.10/lib/python3.10/site-packages/selenium/webdriver/remote/webdriver.py:347\u001b[0m, in \u001b[0;36mWebDriver.execute\u001b[0;34m(self, driver_command, params)\u001b[0m\n\u001b[1;32m    345\u001b[0m response \u001b[39m=\u001b[39m \u001b[39mself\u001b[39m\u001b[39m.\u001b[39mcommand_executor\u001b[39m.\u001b[39mexecute(driver_command, params)\n\u001b[1;32m    346\u001b[0m \u001b[39mif\u001b[39;00m response:\n\u001b[0;32m--> 347\u001b[0m     \u001b[39mself\u001b[39;49m\u001b[39m.\u001b[39;49merror_handler\u001b[39m.\u001b[39;49mcheck_response(response)\n\u001b[1;32m    348\u001b[0m     response[\u001b[39m\"\u001b[39m\u001b[39mvalue\u001b[39m\u001b[39m\"\u001b[39m] \u001b[39m=\u001b[39m \u001b[39mself\u001b[39m\u001b[39m.\u001b[39m_unwrap_value(response\u001b[39m.\u001b[39mget(\u001b[39m\"\u001b[39m\u001b[39mvalue\u001b[39m\u001b[39m\"\u001b[39m, \u001b[39mNone\u001b[39;00m))\n\u001b[1;32m    349\u001b[0m     \u001b[39mreturn\u001b[39;00m response\n",
      "File \u001b[0;32m/Library/Frameworks/Python.framework/Versions/3.10/lib/python3.10/site-packages/selenium/webdriver/remote/errorhandler.py:229\u001b[0m, in \u001b[0;36mErrorHandler.check_response\u001b[0;34m(self, response)\u001b[0m\n\u001b[1;32m    227\u001b[0m         alert_text \u001b[39m=\u001b[39m value[\u001b[39m\"\u001b[39m\u001b[39malert\u001b[39m\u001b[39m\"\u001b[39m]\u001b[39m.\u001b[39mget(\u001b[39m\"\u001b[39m\u001b[39mtext\u001b[39m\u001b[39m\"\u001b[39m)\n\u001b[1;32m    228\u001b[0m     \u001b[39mraise\u001b[39;00m exception_class(message, screen, stacktrace, alert_text)  \u001b[39m# type: ignore[call-arg]  # mypy is not smart enough here\u001b[39;00m\n\u001b[0;32m--> 229\u001b[0m \u001b[39mraise\u001b[39;00m exception_class(message, screen, stacktrace)\n",
      "\u001b[0;31mNoSuchElementException\u001b[0m: Message: no such element: Unable to locate element: {\"method\":\"css selector\",\"selector\":\".sr-only\"}\n  (Session info: chrome=125.0.6422.142); For documentation on this error, please visit: https://www.selenium.dev/documentation/webdriver/troubleshooting/errors#no-such-element-exception\nStacktrace:\n0   chromedriver                        0x00000001053506b8 chromedriver + 6149816\n1   chromedriver                        0x0000000105347cda chromedriver + 6114522\n2   chromedriver                        0x0000000104dd4d5c chromedriver + 400732\n3   chromedriver                        0x0000000104e21aa5 chromedriver + 715429\n4   chromedriver                        0x0000000104e21bf1 chromedriver + 715761\n5   chromedriver                        0x0000000104e16106 chromedriver + 667910\n6   chromedriver                        0x0000000104e44cdd chromedriver + 859357\n7   chromedriver                        0x0000000104e15fe8 chromedriver + 667624\n8   chromedriver                        0x0000000104e44e6e chromedriver + 859758\n9   chromedriver                        0x0000000104e640db chromedriver + 987355\n10  chromedriver                        0x0000000104e44a53 chromedriver + 858707\n11  chromedriver                        0x0000000104e146d5 chromedriver + 661205\n12  chromedriver                        0x0000000104e14f6e chromedriver + 663406\n13  chromedriver                        0x0000000105311cf0 chromedriver + 5893360\n14  chromedriver                        0x00000001053174bc chromedriver + 5915836\n15  chromedriver                        0x00000001052f38b4 chromedriver + 5769396\n16  chromedriver                        0x0000000105317f89 chromedriver + 5918601\n17  chromedriver                        0x00000001052e4ec4 chromedriver + 5709508\n18  chromedriver                        0x0000000105338008 chromedriver + 6049800\n19  chromedriver                        0x00000001053381c7 chromedriver + 6050247\n20  chromedriver                        0x000000010534788e chromedriver + 6113422\n21  libsystem_pthread.dylib             0x00007ff80de8418b _pthread_start + 99\n22  libsystem_pthread.dylib             0x00007ff80de7fae3 thread_start + 15\n"
     ]
    }
   ],
   "source": [
    "from selenium import webdriver\n",
    "from selenium.webdriver.common.by import By\n",
    "import csv\n",
    "import time\n",
    "from selenium.webdriver.chrome.service import Service\n",
    "s=Service(\"/Users/thanuathitya/Scrapping/chromedriver-mac-x64/chromedriver\")\n",
    "driver=webdriver.Chrome(service=s)\n",
    "driver.get(\"https://www.linkedin.com/jobs/search?keywords=Marketing%20Data%20Analyst&location=Berlin%2C%20Berlin%2C%20Germany&geoId=106967730&trk=public_jobs_jobs-search-bar_search-submit&position=1&pageNum=0\")\n",
    "job_listings=driver.find_elements(By.XPATH,'//*[@id=\"main-content\"]/section[2]/ul/li')\n",
    "\n",
    "with open('job_listings.csv','w',newline='',encoding='utf-8') as csvfile:\n",
    "    csv_writer=csv.writer(csvfile)\n",
    "    csv_writer.writerow(['Job Title','Address','Job Link'])\n",
    "    \n",
    "    for listing in job_listings:\n",
    "        job_title_element=listing.find_element(By.CLASS_NAME,'sr-only')\n",
    "        job_title=job_title_element.text\n",
    "        print(\"Job title:\",job_title)\n",
    "        address_element=listing.find_element(By.CLASS_NAME,'base-search-card__metadata')\n",
    "        address=address_element.text\n",
    "\n",
    "        print(\"Address:\",address)\n",
    "        link_element=listing.find_element(By.CLASS_NAME,'base-card__full-link')\n",
    "        job_link=link_element.get_attribute('href')\n",
    "\n",
    "        print('Job Link',job_link)\n",
    "        print(\"-\" * 50)\n",
    "        csv_writer.writerow([job_title,address,job_link])\n",
    "\n",
    "driver.quit()"
   ]
  }
 ],
 "metadata": {
  "kernelspec": {
   "display_name": "Python 3 (ipykernel)",
   "language": "python",
   "name": "python3"
  },
  "language_info": {
   "codemirror_mode": {
    "name": "ipython",
    "version": 3
   },
   "file_extension": ".py",
   "mimetype": "text/x-python",
   "name": "python",
   "nbconvert_exporter": "python",
   "pygments_lexer": "ipython3",
   "version": "3.10.7"
  },
  "vscode": {
   "interpreter": {
    "hash": "aee8b7b246df8f9039afb4144a1f6fd8d2ca17a180786b69acc140d282b71a49"
   }
  }
 },
 "nbformat": 4,
 "nbformat_minor": 4
}
