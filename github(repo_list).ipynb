{
 "cells": [
  {
   "cell_type": "code",
   "execution_count": 1,
   "metadata": {},
   "outputs": [
    {
     "name": "stdout",
     "output_type": "stream",
     "text": [
      "Requirement already satisfied: requests in /Users/thanuathitya/myenv/lib/python3.12/site-packages (2.32.2)\n",
      "Requirement already satisfied: charset-normalizer<4,>=2 in /Users/thanuathitya/myenv/lib/python3.12/site-packages (from requests) (3.3.2)\n",
      "Requirement already satisfied: idna<4,>=2.5 in /Users/thanuathitya/myenv/lib/python3.12/site-packages (from requests) (3.7)\n",
      "Requirement already satisfied: urllib3<3,>=1.21.1 in /Users/thanuathitya/myenv/lib/python3.12/site-packages (from requests) (2.2.1)\n",
      "Requirement already satisfied: certifi>=2017.4.17 in /Users/thanuathitya/myenv/lib/python3.12/site-packages (from requests) (2024.2.2)\n",
      "Note: you may need to restart the kernel to use updated packages.\n"
     ]
    }
   ],
   "source": [
    "pip install requests"
   ]
  },
  {
   "cell_type": "code",
   "execution_count": 2,
   "metadata": {},
   "outputs": [],
   "source": [
    "import requests"
   ]
  },
  {
   "cell_type": "code",
   "execution_count": 3,
   "metadata": {},
   "outputs": [
    {
     "name": "stdout",
     "output_type": "stream",
     "text": [
      "Requirement already satisfied: requests in /Users/thanuathitya/myenv/lib/python3.12/site-packages (2.32.2)\n",
      "Requirement already satisfied: beautifulsoup4 in /Users/thanuathitya/myenv/lib/python3.12/site-packages (4.12.3)\n",
      "Requirement already satisfied: charset-normalizer<4,>=2 in /Users/thanuathitya/myenv/lib/python3.12/site-packages (from requests) (3.3.2)\n",
      "Requirement already satisfied: idna<4,>=2.5 in /Users/thanuathitya/myenv/lib/python3.12/site-packages (from requests) (3.7)\n",
      "Requirement already satisfied: urllib3<3,>=1.21.1 in /Users/thanuathitya/myenv/lib/python3.12/site-packages (from requests) (2.2.1)\n",
      "Requirement already satisfied: certifi>=2017.4.17 in /Users/thanuathitya/myenv/lib/python3.12/site-packages (from requests) (2024.2.2)\n",
      "Requirement already satisfied: soupsieve>1.2 in /Users/thanuathitya/myenv/lib/python3.12/site-packages (from beautifulsoup4) (2.5)\n",
      "Note: you may need to restart the kernel to use updated packages.\n"
     ]
    }
   ],
   "source": [
    "pip install requests beautifulsoup4"
   ]
  },
  {
   "cell_type": "code",
   "execution_count": 4,
   "metadata": {},
   "outputs": [],
   "source": [
    "from bs4 import BeautifulSoup"
   ]
  },
  {
   "cell_type": "code",
   "execution_count": 7,
   "metadata": {},
   "outputs": [],
   "source": [
    "import pprint"
   ]
  },
  {
   "cell_type": "code",
   "execution_count": 11,
   "metadata": {},
   "outputs": [
    {
     "name": "stdout",
     "output_type": "stream",
     "text": [
      "Started scrapping\n",
      "[{'label': 'lllyasviel/Omost', 'link': 'https://github.com/lllyasviel/Omost'},\n",
      " {'label': 'onuratakan/gpt-computer-assistant',\n",
      "  'link': 'https://github.com/onuratakan/gpt-computer-assistant'},\n",
      " {'label': 'VinciGit00/Scrapegraph-ai',\n",
      "  'link': 'https://github.com/VinciGit00/Scrapegraph-ai'},\n",
      " {'label': 'face-hh/webx', 'link': 'https://github.com/face-hh/webx'},\n",
      " {'label': 'ToonCrafter/ToonCrafter',\n",
      "  'link': 'https://github.com/ToonCrafter/ToonCrafter'},\n",
      " {'label': 'isaac-sim/IsaacLab',\n",
      "  'link': 'https://github.com/isaac-sim/IsaacLab'},\n",
      " {'label': 'microsoft/generative-ai-for-beginners',\n",
      "  'link': 'https://github.com/microsoft/generative-ai-for-beginners'},\n",
      " {'label': 'rasbt/LLMs-from-scratch',\n",
      "  'link': 'https://github.com/rasbt/LLMs-from-scratch'},\n",
      " {'label': 'OpenBMB/MiniCPM-V', 'link': 'https://github.com/OpenBMB/MiniCPM-V'},\n",
      " {'label': 'VikParuchuri/marker',\n",
      "  'link': 'https://github.com/VikParuchuri/marker'},\n",
      " {'label': 'TheAlgorithms/Rust',\n",
      "  'link': 'https://github.com/TheAlgorithms/Rust'},\n",
      " {'label': 'jackfrued/Python-100-Days',\n",
      "  'link': 'https://github.com/jackfrued/Python-100-Days'},\n",
      " {'label': 'projectdiscovery/nuclei-templates',\n",
      "  'link': 'https://github.com/projectdiscovery/nuclei-templates'},\n",
      " {'label': 'lizongying/my-tv', 'link': 'https://github.com/lizongying/my-tv'},\n",
      " {'label': 'Anduin2017/HowToCook',\n",
      "  'link': 'https://github.com/Anduin2017/HowToCook'},\n",
      " {'label': 'SAWARATSUKI/KawaiiLogos',\n",
      "  'link': 'https://github.com/SAWARATSUKI/KawaiiLogos'},\n",
      " {'label': 'syncthing/syncthing',\n",
      "  'link': 'https://github.com/syncthing/syncthing'},\n",
      " {'label': 'warpstreamlabs/bento',\n",
      "  'link': 'https://github.com/warpstreamlabs/bento'},\n",
      " {'label': 'renovatebot/renovate',\n",
      "  'link': 'https://github.com/renovatebot/renovate'},\n",
      " {'label': 'projectdiscovery/nuclei',\n",
      "  'link': 'https://github.com/projectdiscovery/nuclei'},\n",
      " {'label': 'firebase/firebase-ios-sdk',\n",
      "  'link': 'https://github.com/firebase/firebase-ios-sdk'},\n",
      " {'label': 'VikParuchuri/surya',\n",
      "  'link': 'https://github.com/VikParuchuri/surya'},\n",
      " {'label': 'guoyww/AnimateDiff',\n",
      "  'link': 'https://github.com/guoyww/AnimateDiff'},\n",
      " {'label': 'HeyPuter/puter', 'link': 'https://github.com/HeyPuter/puter'},\n",
      " {'label': 'chatwoot/chatwoot', 'link': 'https://github.com/chatwoot/chatwoot'}]\n"
     ]
    }
   ],
   "source": [
    "def get_repo():\n",
    "    url_to_call=\"https://github.com/trending\"\n",
    "    response=requests.get(url_to_call,headers={'User-Agent':'Mozilla/5.0'})\n",
    "    response_code=response.status_code\n",
    "    if response_code!=200:\n",
    "        print(\"Error occurred\")\n",
    "        return\n",
    "    html_content=response.content\n",
    "    dom=BeautifulSoup(html_content,\"html.parser\")\n",
    "    all_trending_repos=dom.select(\"article.Box-row h2\")\n",
    "    trending_repo=[]\n",
    "    for i in all_trending_repos:\n",
    "        href_link=i.a.attrs[\"href\"]\n",
    "        name=href_link[1:]\n",
    "        repo={\n",
    "            \"label\":name,\n",
    "            \"link\":\"https://github.com{}\".format(href_link)\n",
    "        }\n",
    "        trending_repo.append(repo)\n",
    "    return trending_repo\n",
    "if __name__==\"__main__\":\n",
    "    print(\"Started scrapping\")\n",
    "    get_repo()\n",
    "    trending_repositories=get_repo()\n",
    "    pprint.pprint(trending_repositories)"
   ]
  }
 ],
 "metadata": {
  "kernelspec": {
   "display_name": "Python 3 (ipykernel)",
   "language": "python",
   "name": "python3"
  },
  "language_info": {
   "codemirror_mode": {
    "name": "ipython",
    "version": 3
   },
   "file_extension": ".py",
   "mimetype": "text/x-python",
   "name": "python",
   "nbconvert_exporter": "python",
   "pygments_lexer": "ipython3",
   "version": "3.12.3"
  },
  "vscode": {
   "interpreter": {
    "hash": "1c306d50db800f7769da6eba5b9c5a31491844b3ad0c8cf3c84356f74da0127e"
   }
  }
 },
 "nbformat": 4,
 "nbformat_minor": 4
}
